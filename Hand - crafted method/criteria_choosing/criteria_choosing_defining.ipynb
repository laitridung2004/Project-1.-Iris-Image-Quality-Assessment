{
 "cells": [
  {
   "cell_type": "code",
   "execution_count": null,
   "metadata": {
    "execution": {
     "iopub.execute_input": "2025-01-14T19:40:03.488658Z",
     "iopub.status.busy": "2025-01-14T19:40:03.488319Z",
     "iopub.status.idle": "2025-01-14T19:40:06.866504Z",
     "shell.execute_reply": "2025-01-14T19:40:06.865614Z",
     "shell.execute_reply.started": "2025-01-14T19:40:03.488631Z"
    },
    "trusted": true
   },
   "outputs": [],
   "source": [
    "!pip install onnxruntime"
   ]
  },
  {
   "cell_type": "code",
   "execution_count": null,
   "metadata": {
    "execution": {
     "iopub.execute_input": "2025-01-14T19:40:06.868050Z",
     "iopub.status.busy": "2025-01-14T19:40:06.867756Z",
     "iopub.status.idle": "2025-01-14T19:40:07.000422Z",
     "shell.execute_reply": "2025-01-14T19:40:06.999673Z",
     "shell.execute_reply.started": "2025-01-14T19:40:06.868013Z"
    },
    "trusted": true
   },
   "outputs": [],
   "source": [
    "!git clone https://github.com/Debatrix/DFSNet.git"
   ]
  },
  {
   "cell_type": "code",
   "execution_count": null,
   "metadata": {
    "_cell_guid": "b1076dfc-b9ad-4769-8c92-a6c4dae69d19",
    "_uuid": "8f2839f25d086af736a60e9eeb907d3b93b6e0e5",
    "execution": {
     "iopub.execute_input": "2025-01-14T19:40:07.002135Z",
     "iopub.status.busy": "2025-01-14T19:40:07.001920Z",
     "iopub.status.idle": "2025-01-14T19:40:07.007485Z",
     "shell.execute_reply": "2025-01-14T19:40:07.006757Z",
     "shell.execute_reply.started": "2025-01-14T19:40:07.002116Z"
    },
    "trusted": true
   },
   "outputs": [],
   "source": [
    "from DFSNet.model.quality_model import MobileNetV2_Lite\n",
    "import torchvision.transforms as transforms\n",
    "from PIL import Image\n",
    "import torch\n",
    "import numpy as np\n",
    "import cv2\n",
    "import onnxruntime as ort\n",
    "import matplotlib.pyplot as plt\n",
    "import os\n",
    "import csv\n",
    "from tqdm import tqdm\n",
    "from scipy.signal import convolve2d, find_peaks\n",
    "from scipy.ndimage import gaussian_filter, gaussian_filter1d, map_coordinates\n",
    "from scipy.optimize import minimize\n",
    "from skimage.transform import radon\n",
    "from skimage.draw import ellipse, disk\n",
    "from scipy.fftpack import fft2, fftshift"
   ]
  },
  {
   "cell_type": "code",
   "execution_count": null,
   "metadata": {
    "execution": {
     "iopub.execute_input": "2025-01-14T19:40:07.008871Z",
     "iopub.status.busy": "2025-01-14T19:40:07.008620Z",
     "iopub.status.idle": "2025-01-14T19:40:07.023543Z",
     "shell.execute_reply": "2025-01-14T19:40:07.022689Z",
     "shell.execute_reply.started": "2025-01-14T19:40:07.008853Z"
    },
    "trusted": true
   },
   "outputs": [],
   "source": [
    "device = torch.device(\"cuda:0\" if torch.cuda.is_available() else \"cpu\")\n",
    "\n",
    "model_segment_path = \"segment_model_path\"\n",
    "\n",
    "model_score_path_1 = \"pretrained_model_DFSNet_path\"\n",
    "model_score_path_2 = \"pretrained_model_DFSNet_path\"\n",
    "\n",
    "input_folder = \"input_folder_path\"\n",
    "output_csv_path = \"criteria_choosing_path\""
   ]
  },
  {
   "cell_type": "code",
   "execution_count": null,
   "metadata": {
    "execution": {
     "iopub.execute_input": "2025-01-14T19:40:07.024853Z",
     "iopub.status.busy": "2025-01-14T19:40:07.024558Z",
     "iopub.status.idle": "2025-01-14T19:40:07.308824Z",
     "shell.execute_reply": "2025-01-14T19:40:07.308025Z",
     "shell.execute_reply.started": "2025-01-14T19:40:07.024825Z"
    },
    "trusted": true
   },
   "outputs": [],
   "source": [
    "session = ort.InferenceSession(model_segment_path)"
   ]
  },
  {
   "cell_type": "code",
   "execution_count": null,
   "metadata": {
    "execution": {
     "iopub.execute_input": "2025-01-14T19:40:07.310222Z",
     "iopub.status.busy": "2025-01-14T19:40:07.309907Z",
     "iopub.status.idle": "2025-01-14T19:40:07.529779Z",
     "shell.execute_reply": "2025-01-14T19:40:07.529127Z",
     "shell.execute_reply.started": "2025-01-14T19:40:07.310191Z"
    },
    "trusted": true
   },
   "outputs": [],
   "source": [
    "def pixel_count_score(iris_mask): \n",
    "    Q_pixel_count = np.sum(iris_mask > 0)\n",
    "    return float(Q_pixel_count/307200 * 100)\n",
    "\n",
    "\n",
    "def sharpness_score(image):\n",
    "    gaussianX = cv2.Sobel(image, cv2.CV_16U, 1, 0)\n",
    "    gaussianY = cv2.Sobel(image, cv2.CV_16U, 0, 1)\n",
    "    sharpness_indicator = np.mean(np.sqrt(gaussianX**2 + gaussianY**2))\n",
    "    return float(sharpness_indicator)\n",
    "\n",
    "def off_angle_score(light_spots, pupil_center, pupil_radius):\n",
    "    distances = [np.linalg.norm(np.array(spot) - np.array(pupil_center)) for spot in light_spots]\n",
    "    max_distance = max(distances, default=0)\n",
    "    return float(max_distance / pupil_radius) if max_distance > pupil_radius else 0\n",
    "\n",
    "\n",
    "def dilation_score(iris_param, pupil_param):\n",
    "    iris_radius = iris_param[2]\n",
    "    pupil_radius = pupil_param[2]\n",
    "    all_area = np.pi*(iris_radius**2)\n",
    "    usable_iris_area = np.pi * (iris_radius**2 - pupil_radius**2)\n",
    "    if usable_iris_area > 0:\n",
    "        usable_area_indicator = (usable_iris_area / all_area) * 100\n",
    "    else:\n",
    "        usable_area_indicator = 0.0\n",
    "    return float(usable_area_indicator)\n",
    "\n",
    "\n",
    "def gray_level_spread_score(img, mask):\n",
    "    img = img.astype(int)\n",
    "    img[mask != True] = -1\n",
    "    usable_pix_num = np.sum(mask)\n",
    "    if usable_pix_num == 0:\n",
    "        return 0.0\n",
    "    gray_level_spread_indicator = 0.0\n",
    "    for i in range(256):\n",
    "        p = np.sum(img == i) / usable_pix_num\n",
    "        if p > 0:\n",
    "            gray_level_spread_indicator -= p * np.log2(p)\n",
    "    return float(gray_level_spread_indicator)\n",
    "\n",
    "\n",
    "def segment_image(model, image_array):\n",
    "    image = Image.fromarray(image_array).convert(\"RGB\")\n",
    "    \n",
    "    resize = transforms.Resize((640, 480))\n",
    "    image_resized = resize(image)\n",
    "    \n",
    "    transform = transforms.Compose([\n",
    "        transforms.ToTensor(),\n",
    "        transforms.Normalize(mean=[0.480], std=[0.200], inplace=False)\n",
    "    ])\n",
    "    \n",
    "    image_tensor = transform(image_resized).unsqueeze(0).to(device)\n",
    "    print(\"Image tensor shape:\", image_tensor.shape)\n",
    "\n",
    "    model.eval()\n",
    "    with torch.no_grad():\n",
    "        pred = model(image_tensor)[0]\n",
    "\n",
    "        return pred\n",
    "\n",
    "\n",
    "model = MobileNetV2_Lite()\n",
    "model.to(device)\n",
    "checkpoint = torch.load(model_score_path_2, map_location=device, weights_only=True)\n",
    "model.load_state_dict(checkpoint['model'])\n",
    "\n",
    "\n",
    "def process_image_and_calculate_metrics(image):\n",
    "    original_image = cv2.imread(image, cv2.IMREAD_GRAYSCALE)\n",
    "\n",
    "    input_size = (640, 480)\n",
    "    \n",
    "    def preprocess_image(img):\n",
    "        img = cv2.resize(img, input_size)\n",
    "        img = img / 255.0\n",
    "        mean = np.array([0.485, 0.456, 0.406])\n",
    "        std = np.array([0.229, 0.224, 0.225])\n",
    "        img = np.stack([img, img, img], axis=-1)\n",
    "        img = (img - mean) / std\n",
    "        img = np.transpose(img, (2, 0, 1))\n",
    "        img = np.expand_dims(img, axis=0).astype(np.float32)\n",
    "        return img\n",
    "    \n",
    "    input_tensor = preprocess_image(original_image)\n",
    "    input_name = session.get_inputs()[0].name\n",
    "    output_name = session.get_outputs()[0].name\n",
    "    output = session.run([output_name], {input_name: input_tensor})[0]\n",
    "    \n",
    "    def postprocess_output(output):\n",
    "        segmentation_maps = np.squeeze(output)\n",
    "        binary_masks = (segmentation_maps > 0.5).astype(np.uint8)\n",
    "        return binary_masks\n",
    "\n",
    "    masks = postprocess_output(output)\n",
    "    mask_iris = masks[1]\n",
    "    mask_pupil = masks[2]\n",
    "    mask_iris_resized = cv2.resize(mask_iris, (original_image.shape[1], original_image.shape[0]), interpolation=cv2.INTER_NEAREST)\n",
    "    mask_pupil_resized = cv2.resize(mask_pupil, (original_image.shape[1], original_image.shape[0]), interpolation=cv2.INTER_NEAREST)\n",
    "    \n",
    "    def define_circle_param(mask):\n",
    "        contours, _ = cv2.findContours(mask.astype(np.uint8), cv2.RETR_EXTERNAL, cv2.CHAIN_APPROX_SIMPLE)\n",
    "        largest_contour = max(contours, key=cv2.contourArea)\n",
    "        (x, y), radius = cv2.minEnclosingCircle(largest_contour)\n",
    "        return x, y, radius\n",
    "    \n",
    "    def find_light_spots(img, threshold=200):\n",
    "        _, thresholded = cv2.threshold(img, threshold, 255, cv2.THRESH_BINARY)\n",
    "        return np.column_stack(np.where(thresholded == 255))\n",
    "    \n",
    "    iris_param = define_circle_param(mask_iris_resized)\n",
    "    pupil_param = define_circle_param(mask_pupil_resized)\n",
    "    pupil_radius = pupil_param[2]\n",
    "    pupil_center = (pupil_param[0], pupil_param[1])\n",
    "    light_spots = find_light_spots(original_image) \n",
    "\n",
    "    Q_pixel_value = round(pixel_count_score(mask_iris_resized), 2)\n",
    "    sharpness_value = round(sharpness_score(original_image), 2)\n",
    "    off_angle_value = round(off_angle_score(light_spots, pupil_center, pupil_radius), 2)\n",
    "    dilation_value = round(dilation_score(iris_param, pupil_param), 2)\n",
    "    gray_level_spread_value = round(gray_level_spread_score(original_image, mask_iris_resized), 2)\n",
    "    quality_score = round(float(segment_image(model, original_image)), 2)\n",
    "\n",
    "    metrics = {\"Pixel Count Score\": Q_pixel_value,\n",
    "               \"Sharpness Score\": sharpness_value,\n",
    "               \"Off-Angle Score\": off_angle_value,\n",
    "               \"Dilation Score\": dilation_value,\n",
    "               \"GLS Score\": gray_level_spread_value,\n",
    "               \"Quality Score\": quality_score}\n",
    "    return metrics"
   ]
  },
  {
   "cell_type": "code",
   "execution_count": null,
   "metadata": {
    "execution": {
     "iopub.execute_input": "2025-01-14T19:40:07.530867Z",
     "iopub.status.busy": "2025-01-14T19:40:07.530584Z",
     "iopub.status.idle": "2025-01-14T19:40:07.538089Z",
     "shell.execute_reply": "2025-01-14T19:40:07.537305Z",
     "shell.execute_reply.started": "2025-01-14T19:40:07.530841Z"
    },
    "trusted": true
   },
   "outputs": [],
   "source": [
    "import numpy as np\n",
    "import cv2\n",
    "import os\n",
    "import csv\n",
    "from tqdm import tqdm\n",
    "from scipy.signal import convolve2d\n",
    "from skimage.draw import disk\n",
    "from skimage.transform import radon\n",
    "from scipy.ndimage import gaussian_filter1d\n",
    "\n",
    "def evaluate_folder(folder_path, csv_path):\n",
    "    csv_headers = [\n",
    "        \"Image Name\", \"Pixel Count Score\", \"Sharpness Score\", \"Off-Angle Score\", \n",
    "        \"Dilation Score\", \"GLS Score\", \"Quality Score\"\n",
    "    ]\n",
    "\n",
    "    def print_metrics_data(metrics):\n",
    "        \"\"\"In ra kiểu dữ liệu và giá trị của từng metric.\"\"\"\n",
    "        for key, value in metrics.items():\n",
    "            print(f\"Metric: {key}\")\n",
    "            print(f\"  Type: {type(value)}\")\n",
    "            print(f\"  Value: {value}\\n\")\n",
    "\n",
    "    with open(csv_path, mode=\"w\", newline=\"\") as csvfile:\n",
    "        writer = csv.writer(csvfile)\n",
    "        writer.writerow(csv_headers)\n",
    "\n",
    "        for image_name in tqdm(os.listdir(folder_path)):\n",
    "            image_path = os.path.join(folder_path, image_name)\n",
    "            if not image_path.lower().endswith(('.jpg', '.jpeg', '.png', '.bmp', '.tiff')):\n",
    "                continue\n",
    "\n",
    "            img = cv2.imread(image_path, cv2.IMREAD_GRAYSCALE)\n",
    "            if img is None:\n",
    "                print(f\"Could not read image {image_name}, skipping.\")\n",
    "                continue\n",
    "\n",
    "            try:\n",
    "                metrics = process_image_and_calculate_metrics(image_path)\n",
    "\n",
    "                # In ra kiểu dữ liệu và giá trị của từng metric\n",
    "                print(f\"Metrics for {image_name}:\")\n",
    "                print_metrics_data(metrics)\n",
    "\n",
    "                # Ghi dữ liệu vào CSV\n",
    "                row = [image_name] + [metrics.get(header, \"N/A\") for header in csv_headers[1:]]\n",
    "                writer.writerow(row)\n",
    "\n",
    "            except Exception as e:\n",
    "                print(f\"Error processing image {image_name}: {e}\")"
   ]
  },
  {
   "cell_type": "code",
   "execution_count": null,
   "metadata": {
    "execution": {
     "iopub.execute_input": "2025-01-14T19:40:07.539946Z",
     "iopub.status.busy": "2025-01-14T19:40:07.539735Z",
     "iopub.status.idle": "2025-01-14T19:40:09.363491Z",
     "shell.execute_reply": "2025-01-14T19:40:09.362615Z",
     "shell.execute_reply.started": "2025-01-14T19:40:07.539928Z"
    },
    "trusted": true
   },
   "outputs": [],
   "source": [
    "evaluate_folder(input_folder, output_csv_path)\n",
    "\n",
    "print(f\"Evaluation completed. Results saved to {output_csv_path}.\")"
   ]
  }
 ],
 "metadata": {
  "kaggle": {
   "accelerator": "nvidiaTeslaT4",
   "dataSources": [
    {
     "datasetId": 6442748,
     "sourceId": 10398031,
     "sourceType": "datasetVersion"
    },
    {
     "datasetId": 6442768,
     "sourceId": 10398060,
     "sourceType": "datasetVersion"
    },
    {
     "datasetId": 6483133,
     "sourceId": 10470600,
     "sourceType": "datasetVersion"
    },
    {
     "modelId": 211316,
     "modelInstanceId": 189312,
     "sourceId": 221940,
     "sourceType": "modelInstanceVersion"
    }
   ],
   "dockerImageVersionId": 30823,
   "isGpuEnabled": true,
   "isInternetEnabled": true,
   "language": "python",
   "sourceType": "notebook"
  },
  "kernelspec": {
   "display_name": "Python 3",
   "language": "python",
   "name": "python3"
  },
  "language_info": {
   "codemirror_mode": {
    "name": "ipython",
    "version": 3
   },
   "file_extension": ".py",
   "mimetype": "text/x-python",
   "name": "python",
   "nbconvert_exporter": "python",
   "pygments_lexer": "ipython3",
   "version": "3.10.12"
  }
 },
 "nbformat": 4,
 "nbformat_minor": 4
}
